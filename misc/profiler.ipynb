{
 "cells": [
  {
   "cell_type": "code",
   "execution_count": 22,
   "id": "56ecd60d-f70c-4b47-a07a-ab8d8d880195",
   "metadata": {
    "tags": []
   },
   "outputs": [],
   "source": [
    "from __future__ import print_function\n",
    "\n",
    "import sys\n",
    "# update your projecty root path before running\n",
    "sys.path.insert(0, '/home/ajb46717/workDir/projects/nsgaformer')\n",
    "\n",
    "import torch\n",
    "import torch.nn as nn\n",
    "import torch.optim as optim\n",
    "import torch.backends.cudnn as cudnn\n",
    "\n",
    "import torchvision\n",
    "from torch.profiler import profile, record_function, ProfilerActivity\n",
    "from misc import utils\n",
    "\n",
    "# model imports\n",
    "from models import macro_genotypes\n",
    "from models.macro_models import EvoNetwork\n",
    "import models.micro_genotypes as genotypes\n",
    "from models.micro_models import ViTNetworkImageNet as Network\n"
   ]
  },
  {
   "cell_type": "code",
   "execution_count": 23,
   "id": "bf791724-45f0-4b3a-9666-11cc8ebfc603",
   "metadata": {
    "tags": []
   },
   "outputs": [
    {
     "name": "stdout",
     "output_type": "stream",
     "text": [
      "512 512 512\n",
      "512 512 512\n",
      "512 512 512\n",
      "512 512 512\n",
      "512 512 512\n",
      "512 512 512\n"
     ]
    }
   ],
   "source": [
    "arch = \"NSGA_ViT\"\n",
    "genotype = eval(\"genotypes.%s\" % arch)\n",
    "model = Network(512, num_classes=10, layers=6, auxiliary=False, genotype=genotype)\n",
    "inputs = torch.randn(5, 3, 224, 224)"
   ]
  },
  {
   "cell_type": "code",
   "execution_count": 10,
   "id": "ed905b03-1537-4720-9053-7c22c15025fc",
   "metadata": {
    "tags": []
   },
   "outputs": [
    {
     "name": "stderr",
     "output_type": "stream",
     "text": [
      "STAGE:2023-09-26 11:46:30 3854273:3854273 ActivityProfilerController.cpp:311] Completed Stage: Warm Up\n",
      "STAGE:2023-09-26 11:46:30 3854273:3854273 ActivityProfilerController.cpp:317] Completed Stage: Collection\n",
      "STAGE:2023-09-26 11:46:30 3854273:3854273 ActivityProfilerController.cpp:321] Completed Stage: Post Processing\n"
     ]
    }
   ],
   "source": [
    "with profile(activities=[ProfilerActivity.CPU], record_shapes=True) as prof:\n",
    "    with record_function(\"model_inference\"):\n",
    "        model(inputs)"
   ]
  },
  {
   "cell_type": "code",
   "execution_count": 13,
   "id": "01446683-6876-4021-becc-157045a995d4",
   "metadata": {
    "tags": []
   },
   "outputs": [
    {
     "name": "stdout",
     "output_type": "stream",
     "text": [
      "--------------------------------  ------------  ------------  ------------  ------------  ------------  ------------  \n",
      "                            Name    Self CPU %      Self CPU   CPU total %     CPU total  CPU time avg    # of Calls  \n",
      "--------------------------------  ------------  ------------  ------------  ------------  ------------  ------------  \n",
      "                 model_inference         8.06%      20.564ms       100.00%     255.052ms     255.052ms             1  \n",
      "               aten::convolution         0.52%       1.336ms        61.82%     157.666ms       2.160ms            73  \n",
      "              aten::_convolution         0.68%       1.728ms        61.29%     156.330ms       2.142ms            73  \n",
      "        aten::mkldnn_convolution        57.36%     146.294ms        57.88%     147.620ms       2.022ms            73  \n",
      "                    aten::conv1d         0.19%     479.000us        54.99%     140.257ms       1.948ms            72  \n",
      "                    aten::linear         0.09%     219.000us         7.25%      18.494ms       1.321ms            14  \n",
      "                    aten::conv2d         0.05%     133.000us         7.07%      18.021ms      18.021ms             1  \n",
      "                    aten::matmul         0.06%     153.000us         5.18%      13.222ms       2.204ms             6  \n",
      "                        aten::mm         4.71%      12.007ms         4.71%      12.008ms       2.001ms             6  \n",
      "                     aten::clone         0.34%     871.000us         4.64%      11.847ms     179.500us            66  \n",
      "                     aten::copy_         4.43%      11.294ms         4.43%      11.294ms     122.761us            92  \n",
      "                aten::contiguous         0.17%     434.000us         4.39%      11.204ms     186.733us            60  \n",
      "                       aten::bmm         3.88%       9.898ms         3.88%       9.899ms     824.917us            12  \n",
      "                   aten::softmax         0.02%      55.000us         2.90%       7.398ms       1.233ms             6  \n",
      "                  aten::_softmax         2.88%       7.343ms         2.88%       7.343ms       1.224ms             6  \n",
      "                      aten::gelu         2.70%       6.898ms         2.70%       6.898ms     530.615us            13  \n",
      "                aten::batch_norm         0.04%     113.000us         2.66%       6.781ms     282.542us            24  \n",
      "    aten::_batch_norm_impl_index         0.08%     215.000us         2.61%       6.668ms     277.833us            24  \n",
      "         aten::native_batch_norm         2.42%       6.168ms         2.52%       6.420ms     267.500us            24  \n",
      "                       aten::add         1.95%       4.975ms         1.95%       4.975ms     165.833us            30  \n",
      "                aten::layer_norm         0.02%      55.000us         1.82%       4.637ms     386.417us            12  \n",
      "         aten::native_layer_norm         0.99%       2.534ms         1.80%       4.582ms     381.833us            12  \n",
      "                     aten::addmm         1.59%       4.064ms         1.74%       4.436ms     554.500us             8  \n",
      "                      aten::relu         0.13%     337.000us         1.44%       3.685ms     153.542us            24  \n",
      "                 aten::clamp_min         1.31%       3.348ms         1.31%       3.348ms     139.500us            24  \n",
      "                      aten::mean         0.08%     203.000us         1.04%       2.657ms     442.833us             6  \n",
      "                       aten::cat         0.63%       1.616ms         0.81%       2.066ms     258.250us             8  \n",
      "                       aten::sum         0.69%       1.752ms         0.76%       1.937ms     322.833us             6  \n",
      "                     aten::empty         0.60%       1.521ms         0.60%       1.521ms       3.410us           446  \n",
      "                   aten::reshape         0.16%     404.000us         0.53%       1.353ms     193.286us             7  \n",
      "                       aten::pad         0.02%      51.000us         0.52%       1.327ms     221.167us             6  \n",
      "                   aten::permute         0.46%       1.161ms         0.50%       1.279ms       9.617us           133  \n",
      "           aten::constant_pad_nd         0.06%     163.000us         0.50%       1.276ms     212.667us             6  \n",
      "                aten::empty_like         0.17%     436.000us         0.36%     925.000us      10.278us            90  \n",
      "                       aten::div         0.25%     647.000us         0.33%     829.000us     138.167us             6  \n",
      "                      aten::add_         0.30%     758.000us         0.30%     758.000us      25.267us            30  \n",
      "               aten::as_strided_         0.25%     627.000us         0.25%     627.000us       8.589us            73  \n",
      "                 aten::unsqueeze         0.19%     492.000us         0.24%     600.000us       4.000us           150  \n",
      "                    aten::narrow         0.18%     449.000us         0.22%     571.000us      25.955us            22  \n",
      "                      aten::div_         0.14%     355.000us         0.20%     517.000us      86.167us             6  \n",
      "                   aten::squeeze         0.15%     380.000us         0.20%     498.000us       6.385us            78  \n",
      "                 aten::transpose         0.16%     417.000us         0.19%     489.000us       7.887us            62  \n",
      "                aten::as_strided         0.18%     464.000us         0.18%     464.000us       0.967us           480  \n",
      "                     aten::fill_         0.16%     403.000us         0.16%     403.000us      33.583us            12  \n",
      "                        aten::to         0.03%      66.000us         0.13%     344.000us      28.667us            12  \n",
      "                  aten::_to_copy         0.07%     168.000us         0.11%     273.000us      22.750us            12  \n",
      "                      aten::view         0.10%     262.000us         0.10%     262.000us       3.910us            67  \n",
      "                    aten::select         0.07%     185.000us         0.08%     198.000us      10.421us            19  \n",
      "                         aten::t         0.04%     112.000us         0.07%     189.000us      13.500us            14  \n",
      "                     aten::slice         0.05%     138.000us         0.06%     154.000us       6.696us            23  \n",
      "              aten::_unsafe_view         0.05%     124.000us         0.05%     124.000us      10.333us            12  \n",
      "                 aten::unflatten         0.01%      32.000us         0.04%      94.000us      15.667us             6  \n",
      "                    aten::expand         0.02%      60.000us         0.02%      62.000us       6.889us             9  \n",
      "             aten::empty_strided         0.02%      50.000us         0.02%      50.000us       4.167us            12  \n",
      "            aten::_reshape_alias         0.02%      39.000us         0.02%      39.000us      39.000us             1  \n",
      "              aten::resolve_conj         0.00%       2.000us         0.00%       2.000us       0.038us            52  \n",
      "--------------------------------  ------------  ------------  ------------  ------------  ------------  ------------  \n",
      "Self CPU time total: 255.052ms\n",
      "\n"
     ]
    }
   ],
   "source": [
    "print(prof.key_averages().table(sort_by=\"cpu_time_total\", row_limit=-1))\n"
   ]
  },
  {
   "cell_type": "code",
   "execution_count": 24,
   "id": "7cec6c99-be71-4699-aeda-67befd0030a0",
   "metadata": {
    "tags": []
   },
   "outputs": [
    {
     "name": "stderr",
     "output_type": "stream",
     "text": [
      "STAGE:2023-09-26 11:56:20 3854273:3854273 ActivityProfilerController.cpp:311] Completed Stage: Warm Up\n",
      "STAGE:2023-09-26 11:56:20 3854273:3854273 ActivityProfilerController.cpp:317] Completed Stage: Collection\n",
      "STAGE:2023-09-26 11:56:20 3854273:3854273 ActivityProfilerController.cpp:321] Completed Stage: Post Processing\n"
     ]
    },
    {
     "name": "stdout",
     "output_type": "stream",
     "text": [
      "-------------------------------------------------------  ------------  ------------  ------------  ------------  ------------  ------------  ------------  ------------  ------------  ------------  \n",
      "                                                   Name    Self CPU %      Self CPU   CPU total %     CPU total  CPU time avg     Self CUDA   Self CUDA %    CUDA total  CUDA time avg    # of Calls  \n",
      "-------------------------------------------------------  ------------  ------------  ------------  ------------  ------------  ------------  ------------  ------------  ------------  ------------  \n",
      "                                        model_inference        27.57%      10.249ms        99.96%      37.162ms      37.162ms       0.000us         0.00%      10.056ms      10.056ms             1  \n",
      "                                      aten::convolution         2.25%     837.000us        34.81%      12.942ms     177.288us       0.000us         0.00%       5.955ms      81.575us            73  \n",
      "                                     aten::_convolution         2.94%       1.092ms        32.56%      12.105ms     165.822us       0.000us         0.00%       5.955ms      81.575us            73  \n",
      "                                           aten::conv1d         0.78%     291.000us        32.68%      12.148ms     168.722us       0.000us         0.00%       5.812ms      80.722us            72  \n",
      "                                aten::cudnn_convolution        15.62%       5.806ms        21.16%       7.868ms     128.984us       5.275ms        52.46%       5.275ms      86.475us            61  \n",
      "void cutlass::Kernel<cutlass_80_tensorop_s1688gemm_6...         0.00%       0.000us         0.00%       0.000us       0.000us       3.297ms        32.79%       3.297ms      78.500us            42  \n",
      "void cutlass::Kernel<cutlass_80_tensorop_s1688gemm_2...         0.00%       0.000us         0.00%       0.000us       0.000us       1.343ms        13.36%       1.343ms     111.917us            12  \n",
      "                                           aten::linear         0.27%      99.000us         5.20%       1.933ms     138.071us       0.000us         0.00%       1.213ms      86.643us            14  \n",
      "                                 ampere_sgemm_128x64_tn         0.00%       0.000us         0.00%       0.000us       0.000us     992.000us         9.86%     992.000us      82.667us            12  \n",
      "void at::native::elementwise_kernel<128, 2, at::nati...         0.00%       0.000us         0.00%       0.000us       0.000us     880.000us         8.75%     880.000us      11.282us            78  \n",
      "                                            aten::copy_         2.66%     988.000us         4.69%       1.742ms      24.194us     808.000us         8.04%     808.000us      11.222us            72  \n",
      "                                              aten::bmm         1.23%     459.000us         1.64%     609.000us      50.750us     770.000us         7.66%     770.000us      64.167us            12  \n",
      "                                           aten::matmul         0.27%     102.000us         2.31%     859.000us     143.167us       0.000us         0.00%     740.000us     123.333us             6  \n",
      "                                            aten::clone         0.95%     355.000us         7.54%       2.802ms      42.455us       0.000us         0.00%     736.000us      11.152us            66  \n",
      "                                               aten::mm         0.83%     308.000us         1.00%     371.000us      61.833us     668.000us         6.64%     668.000us     111.333us             6  \n",
      "                                       aten::contiguous         0.83%     310.000us         7.05%       2.621ms      43.683us       0.000us         0.00%     604.000us      10.067us            60  \n",
      "                                ampere_sgemm_128x128_nn         0.00%       0.000us         0.00%       0.000us       0.000us     499.000us         4.96%     499.000us      83.167us             6  \n",
      "void at::native::elementwise_kernel<128, 2, at::nati...         0.00%       0.000us         0.00%       0.000us       0.000us     456.000us         4.53%     456.000us      12.667us            36  \n",
      "                                            aten::addmm         1.25%     463.000us         1.84%     683.000us      85.375us     353.000us         3.51%     353.000us      44.125us             8  \n",
      "                                              aten::add         1.90%     707.000us         2.73%       1.014ms      33.800us     337.000us         3.35%     337.000us      11.233us            30  \n",
      "                                       aten::batch_norm         0.19%      70.000us         7.38%       2.742ms     114.250us       0.000us         0.00%     299.000us      12.458us            24  \n",
      "                           aten::_batch_norm_impl_index         0.36%     135.000us         7.19%       2.672ms     111.333us       0.000us         0.00%     299.000us      12.458us            24  \n",
      "                                 aten::cudnn_batch_norm         3.84%       1.428ms         6.82%       2.537ms     105.708us     299.000us         2.97%     299.000us      12.458us            24  \n",
      "void cudnn::bn_fw_tr_1C11_singleread<float, 512, tru...         0.00%       0.000us         0.00%       0.000us       0.000us     299.000us         2.97%     299.000us      12.458us            24  \n",
      "                                             aten::gelu         0.82%     305.000us         1.21%     448.000us      34.462us     297.000us         2.95%     297.000us      22.846us            13  \n",
      "void at::native::vectorized_elementwise_kernel<4, at...         0.00%       0.000us         0.00%       0.000us       0.000us     297.000us         2.95%     297.000us      22.846us            13  \n",
      "                                ampere_sgemm_128x128_tn         0.00%       0.000us         0.00%       0.000us       0.000us     271.000us         2.69%     271.000us      45.167us             6  \n",
      "                                aten::_conv_depthwise2d         0.50%     185.000us         1.16%     432.000us      36.000us     266.000us         2.65%     266.000us      22.167us            12  \n",
      "void at::native::(anonymous namespace)::conv_depthwi...         0.00%       0.000us         0.00%       0.000us       0.000us     266.000us         2.65%     266.000us      22.167us            12  \n",
      "                                       aten::layer_norm         0.11%      40.000us         3.24%       1.204ms     100.333us       0.000us         0.00%     253.000us      21.083us            12  \n",
      "                                aten::native_layer_norm         1.06%     394.000us         3.13%       1.164ms      97.000us     109.000us         1.08%     253.000us      21.083us            12  \n",
      "void cutlass_cudnn::Kernel<cutlass_tensorop_s1688fpr...         0.00%       0.000us         0.00%       0.000us       0.000us     252.000us         2.51%     252.000us      42.000us             6  \n",
      "                                          aten::softmax         0.05%      20.000us         0.64%     237.000us      39.500us       0.000us         0.00%     231.000us      38.500us             6  \n",
      "                                         aten::_softmax         0.42%     156.000us         0.58%     217.000us      36.167us     231.000us         2.30%     231.000us      38.500us             6  \n",
      "void (anonymous namespace)::softmax_warp_forward<flo...         0.00%       0.000us         0.00%       0.000us       0.000us     231.000us         2.30%     231.000us      38.500us             6  \n",
      "                                             aten::add_         1.66%     617.000us         2.57%     955.000us      26.528us     205.000us         2.04%     205.000us       5.694us            36  \n",
      "void cudnn::ops::nchwToNhwcKernel<float, float, floa...         0.00%       0.000us         0.00%       0.000us       0.000us     204.000us         2.03%     204.000us      17.000us            12  \n",
      "                                             aten::mean         0.57%     211.000us         0.75%     280.000us      46.667us     156.000us         1.55%     156.000us      26.000us             6  \n",
      "void at::native::reduce_kernel<512, 1, at::native::R...         0.00%       0.000us         0.00%       0.000us       0.000us     156.000us         1.55%     156.000us      26.000us             6  \n",
      "                                           aten::conv2d         0.04%      14.000us         2.96%       1.099ms       1.099ms       0.000us         0.00%     143.000us     143.000us             1  \n",
      "void implicit_convolve_sgemm<float, float, 1024, 5, ...         0.00%       0.000us         0.00%       0.000us       0.000us     143.000us         1.42%     143.000us     143.000us             1  \n",
      "                                             aten::relu         0.81%     303.000us         2.69%       1.000ms      41.667us       0.000us         0.00%     117.000us       4.875us            24  \n",
      "                                        aten::clamp_min         1.17%     436.000us         1.87%     697.000us      29.042us     117.000us         1.16%     117.000us       4.875us            24  \n",
      "void at::native::vectorized_elementwise_kernel<4, at...         0.00%       0.000us         0.00%       0.000us       0.000us     117.000us         1.16%     117.000us       4.875us            24  \n",
      "void at::native::(anonymous namespace)::vectorized_l...         0.00%       0.000us         0.00%       0.000us       0.000us     109.000us         1.08%     109.000us       9.083us            12  \n",
      "                                              aten::cat         0.84%     313.000us         1.27%     473.000us      59.125us     105.000us         1.04%     105.000us      13.125us             8  \n",
      "                                              aten::pad         0.06%      24.000us         1.41%     525.000us      87.500us       0.000us         0.00%      90.000us      15.000us             6  \n",
      "                                  aten::constant_pad_nd         0.32%     118.000us         1.35%     501.000us      83.500us       0.000us         0.00%      90.000us      15.000us             6  \n",
      "                                          aten::reshape         0.28%     104.000us         1.19%     443.000us      34.077us       0.000us         0.00%      72.000us       5.538us            13  \n",
      "void at::native::vectorized_elementwise_kernel<4, at...         0.00%       0.000us         0.00%       0.000us       0.000us      49.000us         0.49%      49.000us       2.042us            24  \n",
      "                                              aten::div         0.44%     162.000us         0.62%     232.000us      38.667us      42.000us         0.42%      42.000us       7.000us             6  \n",
      "void at::native::vectorized_elementwise_kernel<4, at...         0.00%       0.000us         0.00%       0.000us       0.000us      42.000us         0.42%      42.000us       7.000us             6  \n",
      "void at::native::vectorized_elementwise_kernel<4, at...         0.00%       0.000us         0.00%       0.000us       0.000us      37.000us         0.37%      37.000us       6.167us             6  \n",
      "void cudnn::ops::nhwcToNchwKernel<float, float, floa...         0.00%       0.000us         0.00%       0.000us       0.000us      36.000us         0.36%      36.000us       6.000us             6  \n",
      "void at::native::(anonymous namespace)::CatArrayBatc...         0.00%       0.000us         0.00%       0.000us       0.000us      33.000us         0.33%      33.000us      16.500us             2  \n",
      "void gemmSN_TN_kernel<float, 128, 16, 2, 4, 6, 7, fa...         0.00%       0.000us         0.00%       0.000us       0.000us      28.000us         0.28%      28.000us      14.000us             2  \n",
      "                                            aten::fill_         0.19%      70.000us         0.37%     136.000us      22.667us      18.000us         0.18%      18.000us       3.000us             6  \n",
      "void at::native::vectorized_elementwise_kernel<4, at...         0.00%       0.000us         0.00%       0.000us       0.000us      18.000us         0.18%      18.000us       3.000us             6  \n",
      "                                        Memset (Device)         0.00%       0.000us         0.00%       0.000us       0.000us       1.000us         0.01%       1.000us       0.167us             6  \n",
      "                                  cudaStreamIsCapturing         0.14%      52.000us         0.14%      52.000us       0.605us       0.000us         0.00%       0.000us       0.000us            86  \n",
      "                                  cudaStreamGetPriority         0.02%       8.000us         0.02%       8.000us       0.094us       0.000us         0.00%       0.000us       0.000us            85  \n",
      "                       cudaDeviceGetStreamPriorityRange         0.02%       7.000us         0.02%       7.000us       0.082us       0.000us         0.00%       0.000us       0.000us            85  \n",
      "                                       cudaLaunchKernel        11.30%       4.202ms        11.30%       4.202ms      11.672us       0.000us         0.00%       0.000us       0.000us           360  \n",
      "                                   aten::_reshape_alias         0.09%      33.000us         0.09%      33.000us       4.714us       0.000us         0.00%       0.000us       0.000us             7  \n",
      "                                          aten::permute         2.31%     859.000us         2.58%     961.000us       7.226us       0.000us         0.00%       0.000us       0.000us           133  \n",
      "                                       aten::as_strided         0.94%     351.000us         0.94%     351.000us       0.750us       0.000us         0.00%       0.000us       0.000us           468  \n",
      "                                           aten::expand         0.04%      15.000us         0.04%      16.000us      16.000us       0.000us         0.00%       0.000us       0.000us             1  \n",
      "                                       aten::empty_like         0.86%     320.000us         3.03%       1.127ms      12.522us       0.000us         0.00%       0.000us       0.000us            90  \n",
      "                                            aten::empty         4.49%       1.668ms         4.49%       1.668ms       6.726us       0.000us         0.00%       0.000us       0.000us           248  \n",
      "                                        aten::unsqueeze         0.97%     360.000us         1.22%     452.000us       3.013us       0.000us         0.00%       0.000us       0.000us           150  \n",
      "cudaOccupancyMaxActiveBlocksPerMultiprocessorWithFla...         0.70%     260.000us         0.70%     260.000us       0.222us       0.000us         0.00%       0.000us       0.000us          1172  \n",
      "                                   cudaFuncSetAttribute         0.19%      69.000us         0.19%      69.000us       1.150us       0.000us         0.00%       0.000us       0.000us            60  \n",
      "                                          aten::squeeze         0.77%     285.000us         0.96%     356.000us       4.564us       0.000us         0.00%       0.000us       0.000us            78  \n",
      "                                             aten::view         0.59%     219.000us         0.59%     219.000us       2.407us       0.000us         0.00%       0.000us       0.000us            91  \n",
      "                                           aten::narrow         0.18%      66.000us         0.37%     138.000us       7.667us       0.000us         0.00%       0.000us       0.000us            18  \n",
      "                                            aten::slice         0.19%      70.000us         0.22%      83.000us       4.368us       0.000us         0.00%       0.000us       0.000us            19  \n",
      "                                          aten::resize_         0.18%      67.000us         0.18%      67.000us       5.583us       0.000us         0.00%       0.000us       0.000us            12  \n",
      "                                        aten::transpose         0.81%     301.000us         0.95%     353.000us       5.694us       0.000us         0.00%       0.000us       0.000us            62  \n",
      "                                                aten::t         0.22%      82.000us         0.34%     127.000us       9.071us       0.000us         0.00%       0.000us       0.000us            14  \n",
      "                                     aten::_unsafe_view         0.15%      57.000us         0.15%      57.000us       4.750us       0.000us         0.00%       0.000us       0.000us            12  \n",
      "                                        aten::unflatten         0.06%      22.000us         0.15%      57.000us       9.500us       0.000us         0.00%       0.000us       0.000us             6  \n",
      "                                           aten::select         0.35%     129.000us         0.37%     138.000us       7.263us       0.000us         0.00%       0.000us       0.000us            19  \n",
      "                                        cudaMemsetAsync         0.18%      68.000us         0.18%      68.000us      11.333us       0.000us         0.00%       0.000us       0.000us             6  \n",
      "                                             cudaMalloc         1.13%     421.000us         1.13%     421.000us     421.000us       0.000us         0.00%       0.000us       0.000us             1  \n",
      "                                  cudaDeviceSynchronize         0.04%      16.000us         0.04%      16.000us      16.000us       0.000us         0.00%       0.000us       0.000us             1  \n",
      "-------------------------------------------------------  ------------  ------------  ------------  ------------  ------------  ------------  ------------  ------------  ------------  ------------  \n",
      "Self CPU time total: 37.178ms\n",
      "Self CUDA time total: 10.056ms\n",
      "\n"
     ]
    }
   ],
   "source": [
    "gpu_inputs = inputs.cuda()\n",
    "model = model.cuda()\n",
    "with profile(activities=[\n",
    "        ProfilerActivity.CPU, ProfilerActivity.CUDA], record_shapes=True) as prof:\n",
    "    with record_function(\"model_inference\"):\n",
    "        model(gpu_inputs)\n",
    "\n",
    "print(prof.key_averages().table(sort_by=\"cuda_time_total\", row_limit=-1))"
   ]
  },
  {
   "cell_type": "code",
   "execution_count": 29,
   "id": "b3292f88-eace-4187-b60a-20114a39f284",
   "metadata": {
    "tags": []
   },
   "outputs": [
    {
     "ename": "ImportError",
     "evalue": "cannot import name 'Mixup' from 'torchvision.transforms.v2' (/home/ajb46717/anaconda3/lib/python3.10/site-packages/torchvision/transforms/v2/__init__.py)",
     "output_type": "error",
     "traceback": [
      "\u001b[0;31m---------------------------------------------------------------------------\u001b[0m",
      "\u001b[0;31mImportError\u001b[0m                               Traceback (most recent call last)",
      "Cell \u001b[0;32mIn[29], line 1\u001b[0m\n\u001b[0;32m----> 1\u001b[0m \u001b[38;5;28;01mfrom\u001b[39;00m \u001b[38;5;21;01mtorchvision\u001b[39;00m\u001b[38;5;21;01m.\u001b[39;00m\u001b[38;5;21;01mtransforms\u001b[39;00m\u001b[38;5;21;01m.\u001b[39;00m\u001b[38;5;21;01mv2\u001b[39;00m \u001b[38;5;28;01mimport\u001b[39;00m Mixup\n",
      "\u001b[0;31mImportError\u001b[0m: cannot import name 'Mixup' from 'torchvision.transforms.v2' (/home/ajb46717/anaconda3/lib/python3.10/site-packages/torchvision/transforms/v2/__init__.py)"
     ]
    }
   ],
   "source": [
    "from torchvision.transforms.v2 import Mixup"
   ]
  },
  {
   "cell_type": "code",
   "execution_count": 26,
   "id": "5ddc3387-8491-47b3-b63f-b58df1003c20",
   "metadata": {
    "tags": []
   },
   "outputs": [
    {
     "ename": "ModuleNotFoundError",
     "evalue": "No module named 'v2'",
     "output_type": "error",
     "traceback": [
      "\u001b[0;31m---------------------------------------------------------------------------\u001b[0m",
      "\u001b[0;31mModuleNotFoundError\u001b[0m                       Traceback (most recent call last)",
      "Cell \u001b[0;32mIn[26], line 1\u001b[0m\n\u001b[0;32m----> 1\u001b[0m \u001b[38;5;28;01mfrom\u001b[39;00m \u001b[38;5;21;01mv2\u001b[39;00m \u001b[38;5;28;01mimport\u001b[39;00m MixUp\n",
      "\u001b[0;31mModuleNotFoundError\u001b[0m: No module named 'v2'"
     ]
    }
   ],
   "source": [
    "from v2 import MixUp"
   ]
  },
  {
   "cell_type": "code",
   "execution_count": null,
   "id": "681dda09-c720-4dfc-b3fe-24f9c115b375",
   "metadata": {},
   "outputs": [],
   "source": []
  }
 ],
 "metadata": {
  "kernelspec": {
   "display_name": "Python 3 (ipykernel)",
   "language": "python",
   "name": "python3"
  },
  "language_info": {
   "codemirror_mode": {
    "name": "ipython",
    "version": 3
   },
   "file_extension": ".py",
   "mimetype": "text/x-python",
   "name": "python",
   "nbconvert_exporter": "python",
   "pygments_lexer": "ipython3",
   "version": "3.10.9"
  }
 },
 "nbformat": 4,
 "nbformat_minor": 5
}
